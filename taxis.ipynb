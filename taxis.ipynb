{
  "nbformat": 4,
  "nbformat_minor": 0,
  "metadata": {
    "colab": {
      "provenance": [],
      "authorship_tag": "ABX9TyNw2uD4rbAZl4J/3v5xkCWB",
      "include_colab_link": true
    },
    "kernelspec": {
      "name": "python3",
      "display_name": "Python 3"
    },
    "language_info": {
      "name": "python"
    }
  },
  "cells": [
    {
      "cell_type": "markdown",
      "metadata": {
        "id": "view-in-github",
        "colab_type": "text"
      },
      "source": [
        "<a href=\"https://colab.research.google.com/github/dhruvpatel45/ML/blob/main/taxis.ipynb\" target=\"_parent\"><img src=\"https://colab.research.google.com/assets/colab-badge.svg\" alt=\"Open In Colab\"/></a>"
      ]
    },
    {
      "cell_type": "code",
      "execution_count": 1,
      "metadata": {
        "id": "7LwDjBAQkkky"
      },
      "outputs": [],
      "source": [
        "import seaborn as snb"
      ]
    },
    {
      "cell_type": "code",
      "source": [
        "df=snb.get_dataset_names()\n",
        "df"
      ],
      "metadata": {
        "colab": {
          "base_uri": "https://localhost:8080/"
        },
        "id": "y06YNEsxkpIt",
        "outputId": "290d0d09-159a-4296-cb16-f77c2529f050"
      },
      "execution_count": 3,
      "outputs": [
        {
          "output_type": "execute_result",
          "data": {
            "text/plain": [
              "['anagrams',\n",
              " 'anscombe',\n",
              " 'attention',\n",
              " 'brain_networks',\n",
              " 'car_crashes',\n",
              " 'diamonds',\n",
              " 'dots',\n",
              " 'dowjones',\n",
              " 'exercise',\n",
              " 'flights',\n",
              " 'fmri',\n",
              " 'geyser',\n",
              " 'glue',\n",
              " 'healthexp',\n",
              " 'iris',\n",
              " 'mpg',\n",
              " 'penguins',\n",
              " 'planets',\n",
              " 'seaice',\n",
              " 'taxis',\n",
              " 'tips',\n",
              " 'titanic']"
            ]
          },
          "metadata": {},
          "execution_count": 3
        }
      ]
    },
    {
      "cell_type": "code",
      "source": [
        "ds=snb.load_dataset('taxis')\n",
        "print(ds)"
      ],
      "metadata": {
        "colab": {
          "base_uri": "https://localhost:8080/"
        },
        "id": "MndPtM_XkywZ",
        "outputId": "382f39f5-182d-4209-d863-0b36b848e1ec"
      },
      "execution_count": 4,
      "outputs": [
        {
          "output_type": "stream",
          "name": "stdout",
          "text": [
            "                  pickup             dropoff  passengers  distance  fare  \\\n",
            "0    2019-03-23 20:21:09 2019-03-23 20:27:24           1      1.60   7.0   \n",
            "1    2019-03-04 16:11:55 2019-03-04 16:19:00           1      0.79   5.0   \n",
            "2    2019-03-27 17:53:01 2019-03-27 18:00:25           1      1.37   7.5   \n",
            "3    2019-03-10 01:23:59 2019-03-10 01:49:51           1      7.70  27.0   \n",
            "4    2019-03-30 13:27:42 2019-03-30 13:37:14           3      2.16   9.0   \n",
            "...                  ...                 ...         ...       ...   ...   \n",
            "6428 2019-03-31 09:51:53 2019-03-31 09:55:27           1      0.75   4.5   \n",
            "6429 2019-03-31 17:38:00 2019-03-31 18:34:23           1     18.74  58.0   \n",
            "6430 2019-03-23 22:55:18 2019-03-23 23:14:25           1      4.14  16.0   \n",
            "6431 2019-03-04 10:09:25 2019-03-04 10:14:29           1      1.12   6.0   \n",
            "6432 2019-03-13 19:31:22 2019-03-13 19:48:02           1      3.85  15.0   \n",
            "\n",
            "       tip  tolls  total   color      payment            pickup_zone  \\\n",
            "0     2.15    0.0  12.95  yellow  credit card        Lenox Hill West   \n",
            "1     0.00    0.0   9.30  yellow         cash  Upper West Side South   \n",
            "2     2.36    0.0  14.16  yellow  credit card          Alphabet City   \n",
            "3     6.15    0.0  36.95  yellow  credit card              Hudson Sq   \n",
            "4     1.10    0.0  13.40  yellow  credit card           Midtown East   \n",
            "...    ...    ...    ...     ...          ...                    ...   \n",
            "6428  1.06    0.0   6.36   green  credit card      East Harlem North   \n",
            "6429  0.00    0.0  58.80   green  credit card                Jamaica   \n",
            "6430  0.00    0.0  17.30   green         cash    Crown Heights North   \n",
            "6431  0.00    0.0   6.80   green  credit card          East New York   \n",
            "6432  3.36    0.0  20.16   green  credit card            Boerum Hill   \n",
            "\n",
            "                          dropoff_zone pickup_borough dropoff_borough  \n",
            "0                  UN/Turtle Bay South      Manhattan       Manhattan  \n",
            "1                Upper West Side South      Manhattan       Manhattan  \n",
            "2                         West Village      Manhattan       Manhattan  \n",
            "3                       Yorkville West      Manhattan       Manhattan  \n",
            "4                       Yorkville West      Manhattan       Manhattan  \n",
            "...                                ...            ...             ...  \n",
            "6428              Central Harlem North      Manhattan       Manhattan  \n",
            "6429  East Concourse/Concourse Village         Queens           Bronx  \n",
            "6430                    Bushwick North       Brooklyn        Brooklyn  \n",
            "6431      East Flatbush/Remsen Village       Brooklyn        Brooklyn  \n",
            "6432                   Windsor Terrace       Brooklyn        Brooklyn  \n",
            "\n",
            "[6433 rows x 14 columns]\n"
          ]
        }
      ]
    },
    {
      "cell_type": "code",
      "source": [
        "import pandas as pd\n",
        "ds['total'].fillna(ds['total'].mean(),inplace=True)"
      ],
      "metadata": {
        "colab": {
          "base_uri": "https://localhost:8080/"
        },
        "id": "Va8uPgshlGb4",
        "outputId": "b742374e-273c-48c7-ca96-9d8809a81b78"
      },
      "execution_count": 5,
      "outputs": [
        {
          "output_type": "stream",
          "name": "stderr",
          "text": [
            "<ipython-input-5-d6a82ae41a8e>:2: FutureWarning: A value is trying to be set on a copy of a DataFrame or Series through chained assignment using an inplace method.\n",
            "The behavior will change in pandas 3.0. This inplace method will never work because the intermediate object on which we are setting values always behaves as a copy.\n",
            "\n",
            "For example, when doing 'df[col].method(value, inplace=True)', try using 'df.method({col: value}, inplace=True)' or df[col] = df[col].method(value) instead, to perform the operation inplace on the original object.\n",
            "\n",
            "\n",
            "  ds['total'].fillna(ds['total'].mean(),inplace=True)\n"
          ]
        }
      ]
    },
    {
      "cell_type": "code",
      "source": [
        "print(ds)"
      ],
      "metadata": {
        "colab": {
          "base_uri": "https://localhost:8080/"
        },
        "id": "MdtrrfOsl_Tk",
        "outputId": "9116ee02-f6a8-46b5-f6db-57e7e8b00f94"
      },
      "execution_count": 6,
      "outputs": [
        {
          "output_type": "stream",
          "name": "stdout",
          "text": [
            "                  pickup             dropoff  passengers  distance  fare  \\\n",
            "0    2019-03-23 20:21:09 2019-03-23 20:27:24           1      1.60   7.0   \n",
            "1    2019-03-04 16:11:55 2019-03-04 16:19:00           1      0.79   5.0   \n",
            "2    2019-03-27 17:53:01 2019-03-27 18:00:25           1      1.37   7.5   \n",
            "3    2019-03-10 01:23:59 2019-03-10 01:49:51           1      7.70  27.0   \n",
            "4    2019-03-30 13:27:42 2019-03-30 13:37:14           3      2.16   9.0   \n",
            "...                  ...                 ...         ...       ...   ...   \n",
            "6428 2019-03-31 09:51:53 2019-03-31 09:55:27           1      0.75   4.5   \n",
            "6429 2019-03-31 17:38:00 2019-03-31 18:34:23           1     18.74  58.0   \n",
            "6430 2019-03-23 22:55:18 2019-03-23 23:14:25           1      4.14  16.0   \n",
            "6431 2019-03-04 10:09:25 2019-03-04 10:14:29           1      1.12   6.0   \n",
            "6432 2019-03-13 19:31:22 2019-03-13 19:48:02           1      3.85  15.0   \n",
            "\n",
            "       tip  tolls  total   color      payment            pickup_zone  \\\n",
            "0     2.15    0.0  12.95  yellow  credit card        Lenox Hill West   \n",
            "1     0.00    0.0   9.30  yellow         cash  Upper West Side South   \n",
            "2     2.36    0.0  14.16  yellow  credit card          Alphabet City   \n",
            "3     6.15    0.0  36.95  yellow  credit card              Hudson Sq   \n",
            "4     1.10    0.0  13.40  yellow  credit card           Midtown East   \n",
            "...    ...    ...    ...     ...          ...                    ...   \n",
            "6428  1.06    0.0   6.36   green  credit card      East Harlem North   \n",
            "6429  0.00    0.0  58.80   green  credit card                Jamaica   \n",
            "6430  0.00    0.0  17.30   green         cash    Crown Heights North   \n",
            "6431  0.00    0.0   6.80   green  credit card          East New York   \n",
            "6432  3.36    0.0  20.16   green  credit card            Boerum Hill   \n",
            "\n",
            "                          dropoff_zone pickup_borough dropoff_borough  \n",
            "0                  UN/Turtle Bay South      Manhattan       Manhattan  \n",
            "1                Upper West Side South      Manhattan       Manhattan  \n",
            "2                         West Village      Manhattan       Manhattan  \n",
            "3                       Yorkville West      Manhattan       Manhattan  \n",
            "4                       Yorkville West      Manhattan       Manhattan  \n",
            "...                                ...            ...             ...  \n",
            "6428              Central Harlem North      Manhattan       Manhattan  \n",
            "6429  East Concourse/Concourse Village         Queens           Bronx  \n",
            "6430                    Bushwick North       Brooklyn        Brooklyn  \n",
            "6431      East Flatbush/Remsen Village       Brooklyn        Brooklyn  \n",
            "6432                   Windsor Terrace       Brooklyn        Brooklyn  \n",
            "\n",
            "[6433 rows x 14 columns]\n"
          ]
        }
      ]
    },
    {
      "cell_type": "code",
      "source": [
        "ds.isna().sum()"
      ],
      "metadata": {
        "colab": {
          "base_uri": "https://localhost:8080/",
          "height": 523
        },
        "id": "psAAK7WImJOM",
        "outputId": "6db854e6-9ad3-4471-f8a4-66e66f812c09"
      },
      "execution_count": 7,
      "outputs": [
        {
          "output_type": "execute_result",
          "data": {
            "text/plain": [
              "pickup              0\n",
              "dropoff             0\n",
              "passengers          0\n",
              "distance            0\n",
              "fare                0\n",
              "tip                 0\n",
              "tolls               0\n",
              "total               0\n",
              "color               0\n",
              "payment            44\n",
              "pickup_zone        26\n",
              "dropoff_zone       45\n",
              "pickup_borough     26\n",
              "dropoff_borough    45\n",
              "dtype: int64"
            ],
            "text/html": [
              "<div>\n",
              "<style scoped>\n",
              "    .dataframe tbody tr th:only-of-type {\n",
              "        vertical-align: middle;\n",
              "    }\n",
              "\n",
              "    .dataframe tbody tr th {\n",
              "        vertical-align: top;\n",
              "    }\n",
              "\n",
              "    .dataframe thead th {\n",
              "        text-align: right;\n",
              "    }\n",
              "</style>\n",
              "<table border=\"1\" class=\"dataframe\">\n",
              "  <thead>\n",
              "    <tr style=\"text-align: right;\">\n",
              "      <th></th>\n",
              "      <th>0</th>\n",
              "    </tr>\n",
              "  </thead>\n",
              "  <tbody>\n",
              "    <tr>\n",
              "      <th>pickup</th>\n",
              "      <td>0</td>\n",
              "    </tr>\n",
              "    <tr>\n",
              "      <th>dropoff</th>\n",
              "      <td>0</td>\n",
              "    </tr>\n",
              "    <tr>\n",
              "      <th>passengers</th>\n",
              "      <td>0</td>\n",
              "    </tr>\n",
              "    <tr>\n",
              "      <th>distance</th>\n",
              "      <td>0</td>\n",
              "    </tr>\n",
              "    <tr>\n",
              "      <th>fare</th>\n",
              "      <td>0</td>\n",
              "    </tr>\n",
              "    <tr>\n",
              "      <th>tip</th>\n",
              "      <td>0</td>\n",
              "    </tr>\n",
              "    <tr>\n",
              "      <th>tolls</th>\n",
              "      <td>0</td>\n",
              "    </tr>\n",
              "    <tr>\n",
              "      <th>total</th>\n",
              "      <td>0</td>\n",
              "    </tr>\n",
              "    <tr>\n",
              "      <th>color</th>\n",
              "      <td>0</td>\n",
              "    </tr>\n",
              "    <tr>\n",
              "      <th>payment</th>\n",
              "      <td>44</td>\n",
              "    </tr>\n",
              "    <tr>\n",
              "      <th>pickup_zone</th>\n",
              "      <td>26</td>\n",
              "    </tr>\n",
              "    <tr>\n",
              "      <th>dropoff_zone</th>\n",
              "      <td>45</td>\n",
              "    </tr>\n",
              "    <tr>\n",
              "      <th>pickup_borough</th>\n",
              "      <td>26</td>\n",
              "    </tr>\n",
              "    <tr>\n",
              "      <th>dropoff_borough</th>\n",
              "      <td>45</td>\n",
              "    </tr>\n",
              "  </tbody>\n",
              "</table>\n",
              "</div><br><label><b>dtype:</b> int64</label>"
            ]
          },
          "metadata": {},
          "execution_count": 7
        }
      ]
    },
    {
      "cell_type": "code",
      "source": [
        "x=ds.iloc[:,1:]\n",
        "y=ds.iloc[:,:1]\n",
        "print(x)\n",
        "print(y)"
      ],
      "metadata": {
        "colab": {
          "base_uri": "https://localhost:8080/"
        },
        "id": "XsUEeAbgmuWV",
        "outputId": "e4c3b7d4-71ef-4d49-a8bd-37c888bbef22"
      },
      "execution_count": 9,
      "outputs": [
        {
          "output_type": "stream",
          "name": "stdout",
          "text": [
            "                 dropoff  passengers  distance  fare   tip  tolls  total  \\\n",
            "0    2019-03-23 20:27:24           1      1.60   7.0  2.15    0.0  12.95   \n",
            "1    2019-03-04 16:19:00           1      0.79   5.0  0.00    0.0   9.30   \n",
            "2    2019-03-27 18:00:25           1      1.37   7.5  2.36    0.0  14.16   \n",
            "3    2019-03-10 01:49:51           1      7.70  27.0  6.15    0.0  36.95   \n",
            "4    2019-03-30 13:37:14           3      2.16   9.0  1.10    0.0  13.40   \n",
            "...                  ...         ...       ...   ...   ...    ...    ...   \n",
            "6428 2019-03-31 09:55:27           1      0.75   4.5  1.06    0.0   6.36   \n",
            "6429 2019-03-31 18:34:23           1     18.74  58.0  0.00    0.0  58.80   \n",
            "6430 2019-03-23 23:14:25           1      4.14  16.0  0.00    0.0  17.30   \n",
            "6431 2019-03-04 10:14:29           1      1.12   6.0  0.00    0.0   6.80   \n",
            "6432 2019-03-13 19:48:02           1      3.85  15.0  3.36    0.0  20.16   \n",
            "\n",
            "       color      payment            pickup_zone  \\\n",
            "0     yellow  credit card        Lenox Hill West   \n",
            "1     yellow         cash  Upper West Side South   \n",
            "2     yellow  credit card          Alphabet City   \n",
            "3     yellow  credit card              Hudson Sq   \n",
            "4     yellow  credit card           Midtown East   \n",
            "...      ...          ...                    ...   \n",
            "6428   green  credit card      East Harlem North   \n",
            "6429   green  credit card                Jamaica   \n",
            "6430   green         cash    Crown Heights North   \n",
            "6431   green  credit card          East New York   \n",
            "6432   green  credit card            Boerum Hill   \n",
            "\n",
            "                          dropoff_zone pickup_borough dropoff_borough  \n",
            "0                  UN/Turtle Bay South      Manhattan       Manhattan  \n",
            "1                Upper West Side South      Manhattan       Manhattan  \n",
            "2                         West Village      Manhattan       Manhattan  \n",
            "3                       Yorkville West      Manhattan       Manhattan  \n",
            "4                       Yorkville West      Manhattan       Manhattan  \n",
            "...                                ...            ...             ...  \n",
            "6428              Central Harlem North      Manhattan       Manhattan  \n",
            "6429  East Concourse/Concourse Village         Queens           Bronx  \n",
            "6430                    Bushwick North       Brooklyn        Brooklyn  \n",
            "6431      East Flatbush/Remsen Village       Brooklyn        Brooklyn  \n",
            "6432                   Windsor Terrace       Brooklyn        Brooklyn  \n",
            "\n",
            "[6433 rows x 13 columns]\n",
            "                  pickup\n",
            "0    2019-03-23 20:21:09\n",
            "1    2019-03-04 16:11:55\n",
            "2    2019-03-27 17:53:01\n",
            "3    2019-03-10 01:23:59\n",
            "4    2019-03-30 13:27:42\n",
            "...                  ...\n",
            "6428 2019-03-31 09:51:53\n",
            "6429 2019-03-31 17:38:00\n",
            "6430 2019-03-23 22:55:18\n",
            "6431 2019-03-04 10:09:25\n",
            "6432 2019-03-13 19:31:22\n",
            "\n",
            "[6433 rows x 1 columns]\n"
          ]
        }
      ]
    },
    {
      "cell_type": "code",
      "source": [
        "from sklearn.preprocessing import LabelEncoder\n",
        "lk = LabelEncoder()\n",
        "y = lk.fit_transform(y.ravel())\n",
        "print(y)\n"
      ],
      "metadata": {
        "colab": {
          "base_uri": "https://localhost:8080/"
        },
        "id": "VldASVeXnaIN",
        "outputId": "eedbdf6f-7f60-4ee1-adca-ede1d175eb5b"
      },
      "execution_count": 14,
      "outputs": [
        {
          "output_type": "stream",
          "name": "stdout",
          "text": [
            "[4849  699 5520 ... 4875  653 2710]\n"
          ]
        }
      ]
    },
    {
      "cell_type": "code",
      "source": [
        "from sklearn.model_selection import train_test_split\n",
        "x_train,x_test,y_train,y_test=train_test_split(x,y,test_size=0.2)\n",
        "print(x_test)"
      ],
      "metadata": {
        "colab": {
          "base_uri": "https://localhost:8080/"
        },
        "id": "jAZXLTX1oPyO",
        "outputId": "901e9cbb-7e70-434f-9957-64c19c544691"
      },
      "execution_count": 15,
      "outputs": [
        {
          "output_type": "stream",
          "name": "stdout",
          "text": [
            "                 dropoff  passengers  distance  fare    tip  tolls  total  \\\n",
            "363  2019-03-08 22:22:07           1      3.80  15.0   3.75   0.00  22.55   \n",
            "892  2019-03-01 14:39:12           0      2.30  12.5   1.20   0.00  17.00   \n",
            "1601 2019-03-23 12:17:24           2      1.30   8.5   0.00   0.00  11.80   \n",
            "5240 2019-03-18 20:56:37           1      3.68  12.5   0.00   0.00  16.30   \n",
            "4917 2019-03-04 09:12:57           1     16.30  52.0  12.20   5.76  73.26   \n",
            "...                  ...         ...       ...   ...    ...    ...    ...   \n",
            "1406 2019-03-17 21:43:21           1     18.20  52.0   0.00   5.76  61.06   \n",
            "4281 2019-03-18 23:38:00           1      2.10   9.0   2.06   0.00  12.36   \n",
            "4791 2019-03-22 15:10:46           1      0.50   4.5   0.00   0.00   7.80   \n",
            "2505 2019-03-21 23:05:37           1      2.30  11.0   2.95   0.00  17.75   \n",
            "2016 2019-03-18 20:17:16           2      7.03  22.0   0.00   0.00  23.80   \n",
            "\n",
            "       color      payment                   pickup_zone  \\\n",
            "363   yellow  credit card               Lenox Hill West   \n",
            "892   yellow  credit card                Yorkville West   \n",
            "1601  yellow         cash  Penn Station/Madison Sq West   \n",
            "5240  yellow         cash               Lenox Hill West   \n",
            "4917  yellow  credit card         Upper West Side South   \n",
            "...      ...          ...                           ...   \n",
            "1406  yellow         cash                   JFK Airport   \n",
            "4281  yellow  credit card                           NaN   \n",
            "4791  yellow         cash          TriBeCa/Civic Center   \n",
            "2505  yellow  credit card       Greenwich Village South   \n",
            "2016  yellow         cash                   JFK Airport   \n",
            "\n",
            "                        dropoff_zone pickup_borough dropoff_borough  \n",
            "363                     East Village      Manhattan       Manhattan  \n",
            "892                   Midtown Center      Manhattan       Manhattan  \n",
            "1601                    Clinton East      Manhattan       Manhattan  \n",
            "5240  Long Island City/Hunters Point      Manhattan          Queens  \n",
            "4917                South Ozone Park      Manhattan          Queens  \n",
            "...                              ...            ...             ...  \n",
            "1406                    East Village         Queens       Manhattan  \n",
            "4281                             NaN            NaN             NaN  \n",
            "4791            TriBeCa/Civic Center      Manhattan       Manhattan  \n",
            "2505                        Flatiron      Manhattan       Manhattan  \n",
            "2016                  Queens Village         Queens          Queens  \n",
            "\n",
            "[1287 rows x 13 columns]\n"
          ]
        }
      ]
    },
    {
      "cell_type": "code",
      "source": [
        "print(x_train)"
      ],
      "metadata": {
        "colab": {
          "base_uri": "https://localhost:8080/"
        },
        "id": "ubTZQyOur_Re",
        "outputId": "989a8fcb-ba0d-4036-99ec-e3b8a7d214e6"
      },
      "execution_count": 16,
      "outputs": [
        {
          "output_type": "stream",
          "name": "stdout",
          "text": [
            "                 dropoff  passengers  distance  fare   tip  tolls  total  \\\n",
            "4986 2019-03-26 09:51:28           2      0.60   5.5  2.20    0.0  11.00   \n",
            "3744 2019-03-16 01:00:04           1     11.57  38.0  0.00    0.0  41.80   \n",
            "2102 2019-03-03 10:57:09           1      5.00  19.5  0.00    0.0  22.80   \n",
            "2461 2019-03-31 14:35:54           4      1.30   7.5  1.62    0.0  12.42   \n",
            "3087 2019-03-22 01:30:05           1      2.30  10.0  2.76    0.0  16.56   \n",
            "...                  ...         ...       ...   ...   ...    ...    ...   \n",
            "4482 2019-03-20 00:00:00           1      1.70   9.5  2.65    0.0  15.95   \n",
            "1928 2019-03-21 19:54:31           1      2.80  11.0  4.55    0.0  19.85   \n",
            "246  2019-03-14 19:52:41           1      1.65  11.5  3.95    0.0  19.75   \n",
            "6077 2019-03-21 19:29:36           1      1.86   9.0  0.00    0.0  10.80   \n",
            "3044 2019-03-12 11:51:42           1      1.90  14.0  3.45    0.0  20.75   \n",
            "\n",
            "       color      payment                    pickup_zone  \\\n",
            "4986  yellow  credit card                   Midtown East   \n",
            "3744  yellow         cash                 Midtown Center   \n",
            "2102  yellow         cash                       Flatiron   \n",
            "2461  yellow  credit card      Times Sq/Theatre District   \n",
            "3087  yellow  credit card                    Murray Hill   \n",
            "...      ...          ...                            ...   \n",
            "4482  yellow  credit card  Sutton Place/Turtle Bay North   \n",
            "1928  yellow  credit card                   West Village   \n",
            "246   yellow  credit card            UN/Turtle Bay South   \n",
            "6077   green         cash                       Elmhurst   \n",
            "3044  yellow  credit card                       Union Sq   \n",
            "\n",
            "                       dropoff_zone pickup_borough dropoff_borough  \n",
            "4986  Sutton Place/Turtle Bay North      Manhattan       Manhattan  \n",
            "3744              Hillcrest/Pomonok      Manhattan          Queens  \n",
            "2102                 Yorkville East      Manhattan       Manhattan  \n",
            "2461            Lincoln Square East      Manhattan       Manhattan  \n",
            "3087                   West Village      Manhattan       Manhattan  \n",
            "...                             ...            ...             ...  \n",
            "4482                  Midtown South      Manhattan       Manhattan  \n",
            "1928                   Clinton West      Manhattan       Manhattan  \n",
            "246    Penn Station/Madison Sq West      Manhattan       Manhattan  \n",
            "6077                         Corona         Queens          Queens  \n",
            "3044      Times Sq/Theatre District      Manhattan       Manhattan  \n",
            "\n",
            "[5146 rows x 13 columns]\n"
          ]
        }
      ]
    },
    {
      "cell_type": "code",
      "source": [
        "print(x_train)"
      ],
      "metadata": {
        "colab": {
          "base_uri": "https://localhost:8080/"
        },
        "id": "C3ZDkXoUsEgL",
        "outputId": "986d369c-8473-4b6b-e247-c79207c2af48"
      },
      "execution_count": 17,
      "outputs": [
        {
          "output_type": "stream",
          "name": "stdout",
          "text": [
            "                 dropoff  passengers  distance  fare   tip  tolls  total  \\\n",
            "4986 2019-03-26 09:51:28           2      0.60   5.5  2.20    0.0  11.00   \n",
            "3744 2019-03-16 01:00:04           1     11.57  38.0  0.00    0.0  41.80   \n",
            "2102 2019-03-03 10:57:09           1      5.00  19.5  0.00    0.0  22.80   \n",
            "2461 2019-03-31 14:35:54           4      1.30   7.5  1.62    0.0  12.42   \n",
            "3087 2019-03-22 01:30:05           1      2.30  10.0  2.76    0.0  16.56   \n",
            "...                  ...         ...       ...   ...   ...    ...    ...   \n",
            "4482 2019-03-20 00:00:00           1      1.70   9.5  2.65    0.0  15.95   \n",
            "1928 2019-03-21 19:54:31           1      2.80  11.0  4.55    0.0  19.85   \n",
            "246  2019-03-14 19:52:41           1      1.65  11.5  3.95    0.0  19.75   \n",
            "6077 2019-03-21 19:29:36           1      1.86   9.0  0.00    0.0  10.80   \n",
            "3044 2019-03-12 11:51:42           1      1.90  14.0  3.45    0.0  20.75   \n",
            "\n",
            "       color      payment                    pickup_zone  \\\n",
            "4986  yellow  credit card                   Midtown East   \n",
            "3744  yellow         cash                 Midtown Center   \n",
            "2102  yellow         cash                       Flatiron   \n",
            "2461  yellow  credit card      Times Sq/Theatre District   \n",
            "3087  yellow  credit card                    Murray Hill   \n",
            "...      ...          ...                            ...   \n",
            "4482  yellow  credit card  Sutton Place/Turtle Bay North   \n",
            "1928  yellow  credit card                   West Village   \n",
            "246   yellow  credit card            UN/Turtle Bay South   \n",
            "6077   green         cash                       Elmhurst   \n",
            "3044  yellow  credit card                       Union Sq   \n",
            "\n",
            "                       dropoff_zone pickup_borough dropoff_borough  \n",
            "4986  Sutton Place/Turtle Bay North      Manhattan       Manhattan  \n",
            "3744              Hillcrest/Pomonok      Manhattan          Queens  \n",
            "2102                 Yorkville East      Manhattan       Manhattan  \n",
            "2461            Lincoln Square East      Manhattan       Manhattan  \n",
            "3087                   West Village      Manhattan       Manhattan  \n",
            "...                             ...            ...             ...  \n",
            "4482                  Midtown South      Manhattan       Manhattan  \n",
            "1928                   Clinton West      Manhattan       Manhattan  \n",
            "246    Penn Station/Madison Sq West      Manhattan       Manhattan  \n",
            "6077                         Corona         Queens          Queens  \n",
            "3044      Times Sq/Theatre District      Manhattan       Manhattan  \n",
            "\n",
            "[5146 rows x 13 columns]\n"
          ]
        }
      ]
    },
    {
      "cell_type": "code",
      "source": [
        "print(x_train)"
      ],
      "metadata": {
        "colab": {
          "base_uri": "https://localhost:8080/"
        },
        "id": "3Yv83kv_sKP-",
        "outputId": "e6c7dc6d-79dd-4531-d425-e1c43867c581"
      },
      "execution_count": 18,
      "outputs": [
        {
          "output_type": "stream",
          "name": "stdout",
          "text": [
            "                 dropoff  passengers  distance  fare   tip  tolls  total  \\\n",
            "4986 2019-03-26 09:51:28           2      0.60   5.5  2.20    0.0  11.00   \n",
            "3744 2019-03-16 01:00:04           1     11.57  38.0  0.00    0.0  41.80   \n",
            "2102 2019-03-03 10:57:09           1      5.00  19.5  0.00    0.0  22.80   \n",
            "2461 2019-03-31 14:35:54           4      1.30   7.5  1.62    0.0  12.42   \n",
            "3087 2019-03-22 01:30:05           1      2.30  10.0  2.76    0.0  16.56   \n",
            "...                  ...         ...       ...   ...   ...    ...    ...   \n",
            "4482 2019-03-20 00:00:00           1      1.70   9.5  2.65    0.0  15.95   \n",
            "1928 2019-03-21 19:54:31           1      2.80  11.0  4.55    0.0  19.85   \n",
            "246  2019-03-14 19:52:41           1      1.65  11.5  3.95    0.0  19.75   \n",
            "6077 2019-03-21 19:29:36           1      1.86   9.0  0.00    0.0  10.80   \n",
            "3044 2019-03-12 11:51:42           1      1.90  14.0  3.45    0.0  20.75   \n",
            "\n",
            "       color      payment                    pickup_zone  \\\n",
            "4986  yellow  credit card                   Midtown East   \n",
            "3744  yellow         cash                 Midtown Center   \n",
            "2102  yellow         cash                       Flatiron   \n",
            "2461  yellow  credit card      Times Sq/Theatre District   \n",
            "3087  yellow  credit card                    Murray Hill   \n",
            "...      ...          ...                            ...   \n",
            "4482  yellow  credit card  Sutton Place/Turtle Bay North   \n",
            "1928  yellow  credit card                   West Village   \n",
            "246   yellow  credit card            UN/Turtle Bay South   \n",
            "6077   green         cash                       Elmhurst   \n",
            "3044  yellow  credit card                       Union Sq   \n",
            "\n",
            "                       dropoff_zone pickup_borough dropoff_borough  \n",
            "4986  Sutton Place/Turtle Bay North      Manhattan       Manhattan  \n",
            "3744              Hillcrest/Pomonok      Manhattan          Queens  \n",
            "2102                 Yorkville East      Manhattan       Manhattan  \n",
            "2461            Lincoln Square East      Manhattan       Manhattan  \n",
            "3087                   West Village      Manhattan       Manhattan  \n",
            "...                             ...            ...             ...  \n",
            "4482                  Midtown South      Manhattan       Manhattan  \n",
            "1928                   Clinton West      Manhattan       Manhattan  \n",
            "246    Penn Station/Madison Sq West      Manhattan       Manhattan  \n",
            "6077                         Corona         Queens          Queens  \n",
            "3044      Times Sq/Theatre District      Manhattan       Manhattan  \n",
            "\n",
            "[5146 rows x 13 columns]\n"
          ]
        }
      ]
    },
    {
      "cell_type": "code",
      "source": [
        "print(y_train)"
      ],
      "metadata": {
        "colab": {
          "base_uri": "https://localhost:8080/"
        },
        "id": "wojn-oy7sL6d",
        "outputId": "d2992c30-4871-4142-bb5e-e77bdb007e9c"
      },
      "execution_count": 19,
      "outputs": [
        {
          "output_type": "stream",
          "name": "stdout",
          "text": [
            "[5227 3234  504 ... 2982 4388 2383]\n"
          ]
        }
      ]
    },
    {
      "cell_type": "code",
      "source": [
        "import numpy as np"
      ],
      "metadata": {
        "id": "6TgkaYgeuc_3"
      },
      "execution_count": 37,
      "outputs": []
    },
    {
      "cell_type": "code",
      "source": [
        "print(x_train.dtypes)\n",
        "print(x_test.dtypes)\n"
      ],
      "metadata": {
        "colab": {
          "base_uri": "https://localhost:8080/"
        },
        "id": "5oYkcAq6s-qL",
        "outputId": "c9e59698-3dd4-4804-fce6-13cfb963cead"
      },
      "execution_count": 31,
      "outputs": [
        {
          "output_type": "stream",
          "name": "stdout",
          "text": [
            "dropoff            datetime64[ns]\n",
            "passengers                  int64\n",
            "distance                  float64\n",
            "fare                      float64\n",
            "tip                       float64\n",
            "tolls                     float64\n",
            "total                     float64\n",
            "color                      object\n",
            "payment                    object\n",
            "pickup_zone                object\n",
            "dropoff_zone               object\n",
            "pickup_borough             object\n",
            "dropoff_borough            object\n",
            "dtype: object\n",
            "dropoff            datetime64[ns]\n",
            "passengers                  int64\n",
            "distance                  float64\n",
            "fare                      float64\n",
            "tip                       float64\n",
            "tolls                     float64\n",
            "total                     float64\n",
            "color                      object\n",
            "payment                    object\n",
            "pickup_zone                object\n",
            "dropoff_zone               object\n",
            "pickup_borough             object\n",
            "dropoff_borough            object\n",
            "dtype: object\n"
          ]
        }
      ]
    },
    {
      "cell_type": "code",
      "source": [
        "print(\"x_train columns:\", x_train.columns)\n",
        "print(\"x_test columns:\", x_test.columns)\n",
        "columns_to_encode = ['pickup_zone', 'dropoff_zone', 'pickup_borough', 'dropoff_borough']\n",
        "columns_in_train = [col for col in columns_to_encode if col in x_train.columns]\n",
        "columns_in_test = [col for col in columns_to_encode if col in x_test.columns]\n",
        "x_train = pd.get_dummies(x_train, columns=columns_in_train, drop_first=True)\n",
        "x_test = pd.get_dummies(x_test, columns=columns_in_test, drop_first=True)\n",
        "x_train, x_test = x_train.align(x_test, join='left', axis=1, fill_value=0)\n",
        "print(\"x_train columns after alignment:\", x_train.columns)\n",
        "print(\"x_test columns after alignment:\", x_test.columns)\n",
        "\n"
      ],
      "metadata": {
        "colab": {
          "base_uri": "https://localhost:8080/"
        },
        "id": "rH7B_9hgtzDV",
        "outputId": "e626592e-6f75-4665-c7ff-ac09e30fd6d5"
      },
      "execution_count": 43,
      "outputs": [
        {
          "output_type": "stream",
          "name": "stdout",
          "text": [
            "x_train columns: Index(['dropoff', 'passengers', 'distance', 'fare', 'tip', 'tolls', 'total',\n",
            "       'color', 'payment', 'pickup_zone_Alphabet City',\n",
            "       ...\n",
            "       'dropoff_zone_World Trade Center', 'dropoff_zone_Yorkville East',\n",
            "       'dropoff_zone_Yorkville West', 'pickup_borough_Brooklyn',\n",
            "       'pickup_borough_Manhattan', 'pickup_borough_Queens',\n",
            "       'dropoff_borough_Brooklyn', 'dropoff_borough_Manhattan',\n",
            "       'dropoff_borough_Queens', 'dropoff_borough_Staten Island'],\n",
            "      dtype='object', length=398)\n",
            "x_test columns: Index(['dropoff', 'passengers', 'distance', 'fare', 'tip', 'tolls', 'total',\n",
            "       'color', 'payment', 'pickup_zone_Alphabet City',\n",
            "       ...\n",
            "       'dropoff_zone_World Trade Center', 'dropoff_zone_Yorkville East',\n",
            "       'dropoff_zone_Yorkville West', 'pickup_borough_Brooklyn',\n",
            "       'pickup_borough_Manhattan', 'pickup_borough_Queens',\n",
            "       'dropoff_borough_Brooklyn', 'dropoff_borough_Manhattan',\n",
            "       'dropoff_borough_Queens', 'dropoff_borough_Staten Island'],\n",
            "      dtype='object', length=398)\n",
            "x_train columns after alignment: Index(['dropoff', 'passengers', 'distance', 'fare', 'tip', 'tolls', 'total',\n",
            "       'color', 'payment', 'pickup_zone_Alphabet City',\n",
            "       ...\n",
            "       'dropoff_zone_World Trade Center', 'dropoff_zone_Yorkville East',\n",
            "       'dropoff_zone_Yorkville West', 'pickup_borough_Brooklyn',\n",
            "       'pickup_borough_Manhattan', 'pickup_borough_Queens',\n",
            "       'dropoff_borough_Brooklyn', 'dropoff_borough_Manhattan',\n",
            "       'dropoff_borough_Queens', 'dropoff_borough_Staten Island'],\n",
            "      dtype='object', length=398)\n",
            "x_test columns after alignment: Index(['dropoff', 'passengers', 'distance', 'fare', 'tip', 'tolls', 'total',\n",
            "       'color', 'payment', 'pickup_zone_Alphabet City',\n",
            "       ...\n",
            "       'dropoff_zone_World Trade Center', 'dropoff_zone_Yorkville East',\n",
            "       'dropoff_zone_Yorkville West', 'pickup_borough_Brooklyn',\n",
            "       'pickup_borough_Manhattan', 'pickup_borough_Queens',\n",
            "       'dropoff_borough_Brooklyn', 'dropoff_borough_Manhattan',\n",
            "       'dropoff_borough_Queens', 'dropoff_borough_Staten Island'],\n",
            "      dtype='object', length=398)\n"
          ]
        }
      ]
    },
    {
      "cell_type": "code",
      "source": [
        "from sklearn.linear_model import LinearRegression\n",
        "lr = LinearRegression()\n",
        "pl_model = lr.fit(x_train, y_train)\n",
        "prediction = pl_model.predict(x_test)\n",
        "print(prediction)"
      ],
      "metadata": {
        "colab": {
          "base_uri": "https://localhost:8080/"
        },
        "id": "AkHc2gWQt2JF",
        "outputId": "cec3d1f2-ce21-4e57-80c8-40337b6471d5"
      },
      "execution_count": 46,
      "outputs": [
        {
          "output_type": "stream",
          "name": "stdout",
          "text": [
            "[1609.18705548   86.23305423 4709.29410591 ... 4490.37032602 4335.3995545\n",
            " 3729.95175922]\n"
          ]
        }
      ]
    },
    {
      "cell_type": "code",
      "source": [
        "print(y_test)"
      ],
      "metadata": {
        "colab": {
          "base_uri": "https://localhost:8080/"
        },
        "id": "E3Pl2d4R2lyw",
        "outputId": "ef4001cf-f06e-440c-c896-2352399260be"
      },
      "execution_count": 47,
      "outputs": [
        {
          "output_type": "stream",
          "name": "stdout",
          "text": [
            "[1692   97 4751 ... 4572 4439 3758]\n"
          ]
        }
      ]
    },
    {
      "cell_type": "code",
      "source": [
        "from sklearn.metrics import r2_score\n",
        "r2_score(y_test,prediction)"
      ],
      "metadata": {
        "colab": {
          "base_uri": "https://localhost:8080/"
        },
        "id": "waVfyDAF2zPW",
        "outputId": "a1440477-11e5-44dc-cba4-a60735399bbf"
      },
      "execution_count": 48,
      "outputs": [
        {
          "output_type": "execute_result",
          "data": {
            "text/plain": [
              "0.998161619952537"
            ]
          },
          "metadata": {},
          "execution_count": 48
        }
      ]
    },
    {
      "cell_type": "code",
      "source": [],
      "metadata": {
        "id": "dg56n21j3Edc"
      },
      "execution_count": null,
      "outputs": []
    }
  ]
}